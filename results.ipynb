{
 "cells": [
  {
   "cell_type": "code",
   "execution_count": 3,
   "metadata": {},
   "outputs": [
    {
     "data": {
      "text/plain": [
       "{'baseline_knn_time': array([0.1540075, 0.0070467, 0.0059965]),\n",
       " 'baseline_knn_acc': array([0.62790698, 0.69767442, 0.58139535]),\n",
       " 'baseline_time': array([0.0013885, 0.0009983, 0.0085672, 0.0037015]),\n",
       " 'baseline_acc': array([0.58139535, 0.53488372, 0.6744186 , 0.72093023]),\n",
       " 'smart_time': array([[[2.3594546, 0.0590264],\n",
       "         [0.0597788, 0.0608105],\n",
       "         [0.0633466, 0.0617818]],\n",
       " \n",
       "        [[0.0539741, 0.0560436],\n",
       "         [0.0561274, 0.0598776],\n",
       "         [0.0579494, 0.0598743]],\n",
       " \n",
       "        [[0.0562593, 0.0647282],\n",
       "         [0.0617295, 0.0715498],\n",
       "         [0.0676939, 0.0727452]],\n",
       " \n",
       "        [[0.0645766, 0.0715691],\n",
       "         [0.0708678, 0.0721596],\n",
       "         [0.0748834, 0.0767115]]]),\n",
       " 'smart_acc': array([[[0.60465116, 0.6744186 ],\n",
       "         [0.69767442, 0.6744186 ],\n",
       "         [0.69767442, 0.69767442]],\n",
       " \n",
       "        [[0.60465116, 0.62790698],\n",
       "         [0.6744186 , 0.69767442],\n",
       "         [0.62790698, 0.65116279]],\n",
       " \n",
       "        [[0.62790698, 0.69767442],\n",
       "         [0.6744186 , 0.6744186 ],\n",
       "         [0.62790698, 0.65116279]],\n",
       " \n",
       "        [[0.62790698, 0.62790698],\n",
       "         [0.69767442, 0.6744186 ],\n",
       "         [0.62790698, 0.62790698]]]),\n",
       " 'ks': [3, 5, 7],\n",
       " 'tresholds': [0.6, 0.8]}"
      ]
     },
     "execution_count": 3,
     "metadata": {},
     "output_type": "execute_result"
    }
   ],
   "source": [
    "import pickle\n",
    "import os\n",
    "\n",
    "with open(os.path.join(\"results\", \"glass\", f'results_0.pickle'), 'rb') as f:\n",
    "    results = pickle.load(f)\n",
    "\n",
    "results"
   ]
  }
 ],
 "metadata": {
  "kernelspec": {
   "display_name": "Python 3",
   "language": "python",
   "name": "python3"
  },
  "language_info": {
   "codemirror_mode": {
    "name": "ipython",
    "version": 3
   },
   "file_extension": ".py",
   "mimetype": "text/x-python",
   "name": "python",
   "nbconvert_exporter": "python",
   "pygments_lexer": "ipython3",
   "version": "3.10.2"
  },
  "orig_nbformat": 4
 },
 "nbformat": 4,
 "nbformat_minor": 2
}
