{
 "cells": [
  {
   "cell_type": "code",
   "execution_count": 3,
   "metadata": {},
   "outputs": [
    {
     "data": {
      "text/plain": [
       "{'baseline_knn_time': array([0.1540075, 0.0070467, 0.0059965]),\n",
       " 'baseline_knn_acc': array([0.62790698, 0.69767442, 0.58139535]),\n",
       " 'baseline_time': array([0.0013885, 0.0009983, 0.0085672, 0.0037015]),\n",
       " 'baseline_acc': array([0.58139535, 0.53488372, 0.6744186 , 0.72093023]),\n",
       " 'smart_time': array([[[2.3594546, 0.0590264],\n",
       "         [0.0597788, 0.0608105],\n",
       "         [0.0633466, 0.0617818]],\n",
       " \n",
       "        [[0.0539741, 0.0560436],\n",
       "         [0.0561274, 0.0598776],\n",
       "         [0.0579494, 0.0598743]],\n",
       " \n",
       "        [[0.0562593, 0.0647282],\n",
       "         [0.0617295, 0.0715498],\n",
       "         [0.0676939, 0.0727452]],\n",
       " \n",
       "        [[0.0645766, 0.0715691],\n",
       "         [0.0708678, 0.0721596],\n",
       "         [0.0748834, 0.0767115]]]),\n",
       " 'smart_acc': array([[[0.60465116, 0.6744186 ],\n",
       "         [0.69767442, 0.6744186 ],\n",
       "         [0.69767442, 0.69767442]],\n",
       " \n",
       "        [[0.60465116, 0.62790698],\n",
       "         [0.6744186 , 0.69767442],\n",
       "         [0.62790698, 0.65116279]],\n",
       " \n",
       "        [[0.62790698, 0.69767442],\n",
       "         [0.6744186 , 0.6744186 ],\n",
       "         [0.62790698, 0.65116279]],\n",
       " \n",
       "        [[0.62790698, 0.62790698],\n",
       "         [0.69767442, 0.6744186 ],\n",
       "         [0.62790698, 0.62790698]]]),\n",
       " 'ks': [3, 5, 7],\n",
       " 'tresholds': [0.6, 0.8]}"
      ]
     },
     "execution_count": 3,
     "metadata": {},
     "output_type": "execute_result"
    }
   ],
   "source": [
    "import pickle\n",
    "import os\n",
    "\n",
    "with open(os.path.join(\"results\", \"glass\", f'results_0.pickle'), 'rb') as f:\n",
    "    results = pickle.load(f)\n",
    "\n",
    "results"
   ]
  },
  {
   "cell_type": "code",
   "execution_count": 7,
   "metadata": {},
   "outputs": [
    {
     "name": "stdout",
     "output_type": "stream",
     "text": [
      "[0 1 2] [3 5 2]\n",
      "5 8.0\n"
     ]
    }
   ],
   "source": [
    "import numpy as np\n",
    "y_neighbors = np.array([0,1,2,0,1,2,0,1,1,1])\n",
    "k=len(y_neighbors)\n",
    "treshold = 0.8\n",
    "\n",
    "unique, counts = np.unique(y_neighbors, return_counts=True)\n",
    "dominant_class = unique[np.argmax(counts)]\n",
    "print(unique, counts)\n",
    "\n",
    "print(counts[np.argmax(counts)], treshold*k)"
   ]
  },
  {
   "cell_type": "code",
   "execution_count": 21,
   "metadata": {},
   "outputs": [],
   "source": [
    "from typing import Literal\n",
    "from average_results import ret_avg_results\n",
    "import numpy as np\n",
    "\n",
    "def generate_table(datasets=['mnist', 'covertype', 'yeast', 'skin', 'statlog'],knn_algo:Literal['brute', 'kd_tree', 'ball_tree']='brute'):\n",
    "    ret = ret_avg_results(datasets=datasets, knn_algo=knn_algo)\n",
    "    if ret is None:\n",
    "        print(\"No results found\")\n",
    "        return\n",
    "    with open('exp1_tab.txt','w') as f:\n",
    "        for dataset, results_dict in ret.items():\n",
    "            clfs= results_dict[\"clfs\"]\n",
    "            ks= results_dict['ks']\n",
    "            thresholds= results_dict['thresholds']\n",
    "            t1_idx = thresholds.index(1.0)\n",
    "            # print(clfs)\n",
    "            x_baselines = [\"{:.1f}\".format(xb * 100) for xb in results_dict[\"baseline_acc\"]]\n",
    "            f.write(f'{dataset}, ks: {ks}\\n')\n",
    "            f.write(\"\\t\".join(x_baselines))\n",
    "            f.write('\\n')\n",
    "            \n",
    "            smart= results_dict[f\"smart_acc\"] #shape = (n_clfs, n_k, n_t)\n",
    "            smart = np.swapaxes(smart, 1, 2) # shape = (n_clfs, n_t, n_k)\n",
    "            for iclf, clf in enumerate(clfs):\n",
    "                curr_smart = smart[iclf,t1_idx,:] # shape = (n_k)\n",
    "                k_le_10 = [idx for idx, k in enumerate(ks) if k<=10]\n",
    "                mean_acc_k_le_10 = np.mean(curr_smart[k_le_10])\n",
    "                means = [mean_acc_k_le_10] + [np.mean(curr_smart[idx]) for idx in range(len(ks)) if idx not in k_le_10]\n",
    "                means = [\"{:.1f}\".format(mean * 100) for mean in means]\n",
    "                f.write(\"\\t\".join(means))\n",
    "                f.write(\"\\t\")\n",
    "            f.write('\\n')\n",
    "                \n",
    "            \n",
    "        \n",
    "generate_table(datasets=['covertype', 'glass', 'mnist', 'skin','statlog', 'usps', 'wine', 'yeast'],)"
   ]
  },
  {
   "cell_type": "code",
   "execution_count": null,
   "metadata": {},
   "outputs": [],
   "source": []
  }
 ],
 "metadata": {
  "kernelspec": {
   "display_name": "Python 3",
   "language": "python",
   "name": "python3"
  },
  "language_info": {
   "codemirror_mode": {
    "name": "ipython",
    "version": 3
   },
   "file_extension": ".py",
   "mimetype": "text/x-python",
   "name": "python",
   "nbconvert_exporter": "python",
   "pygments_lexer": "ipython3",
   "version": "3.11.1"
  },
  "orig_nbformat": 4
 },
 "nbformat": 4,
 "nbformat_minor": 2
}
